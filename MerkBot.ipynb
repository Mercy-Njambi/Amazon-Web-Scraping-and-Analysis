{
 "cells": [
  {
   "cell_type": "code",
   "execution_count": 1,
   "metadata": {},
   "outputs": [],
   "source": [
    "import pandas as pd\n",
    "import requests, re, time\n",
    "from bs4 import BeautifulSoup"
   ]
  },
  {
   "cell_type": "code",
   "execution_count": 44,
   "metadata": {},
   "outputs": [],
   "source": [
    "url = \"https://www.amazon.com/s?i=electronics-intl-ship&bbn=16225009011&rh=n%3A2811119011%2Cn%3A7072561011&dc&ds=v1%3ALg%2BI7W8x3qOCmrDsTOUseTdkjVGEHCRYQPlZKCjiQlo&qid=1662655090&rnid=2811119011&ref=sr_nr_n_1\"\n",
    "mainUrl = 'https://www.amazon.com'"
   ]
  },
  {
   "cell_type": "code",
   "execution_count": 3,
   "metadata": {},
   "outputs": [],
   "source": [
    "headers = ({'User-Agent':\n",
    "            'Mozilla/5.0 (Windows NT 10.0; Win64; x64) AppleWebKit/537.36 (KHTML, like Gecko) Chrome/103.0.5060.114 Safari/537.36 Edg/103.0.1264.62',\n",
    "            'Accept-Language': 'en-US, en;q=0.5'})"
   ]
  },
  {
   "cell_type": "code",
   "execution_count": 4,
   "metadata": {},
   "outputs": [],
   "source": [
    "# getting the url response\n",
    "\n",
    "response = requests.get(url=url, headers=headers)"
   ]
  },
  {
   "cell_type": "code",
   "execution_count": 5,
   "metadata": {},
   "outputs": [],
   "source": [
    "# getting the response content\n",
    "\n",
    "primaryPageSoup = BeautifulSoup(markup=response.content, features='lxml')"
   ]
  },
  {
   "cell_type": "code",
   "execution_count": 6,
   "metadata": {},
   "outputs": [],
   "source": [
    "# finding the container \n",
    "\n",
    "parentDiv = primaryPageSoup.find(name=\"div\", \n",
    "                                attrs={'class': 's-main-slot s-result-list s-search-results sg-row'})"
   ]
  },
  {
   "cell_type": "code",
   "execution_count": 7,
   "metadata": {},
   "outputs": [],
   "source": [
    "# finding the card with phone titles\n",
    "\n",
    "phoneDivs = parentDiv.findChildren(name=\"div\", attrs={'data-uuid': True},\n",
    "                                   recursive=False)"
   ]
  },
  {
   "cell_type": "markdown",
   "metadata": {},
   "source": [
    "Finding children <b>recursively</b> entails getting *their* grandchildren too, as _viable_ results."
   ]
  },
  {
   "cell_type": "code",
   "execution_count": 8,
   "metadata": {},
   "outputs": [
    {
     "name": "stdout",
     "output_type": "stream",
     "text": [
      "TCL 30 SE |2022| Unlocked Cell Phone 128GB ROM + 4GB RAM, 6.52\" Android Phone GSM Unlocked Smartphone with 50MP Camera, 5000mAh, US Version, Space Gray(Not Compatible with Verizon/Boost/Sprint)  \n"
     ]
    }
   ],
   "source": [
    "# Getting title information\n",
    "\n",
    "titleCard = phoneDivs[0].find(name='h2').text\n",
    "print(titleCard)"
   ]
  },
  {
   "cell_type": "code",
   "execution_count": 9,
   "metadata": {},
   "outputs": [],
   "source": [
    "redirectUrl = phoneDivs[0].find(name='a')['href']"
   ]
  },
  {
   "cell_type": "code",
   "execution_count": 10,
   "metadata": {},
   "outputs": [],
   "source": []
  },
  {
   "cell_type": "code",
   "execution_count": 11,
   "metadata": {},
   "outputs": [],
   "source": [
    "pageRedirect = requests.get(mainUrl + redirectUrl, headers=headers)"
   ]
  },
  {
   "cell_type": "code",
   "execution_count": 12,
   "metadata": {},
   "outputs": [],
   "source": [
    "redirectSoup = BeautifulSoup(markup=pageRedirect.content, features='lxml')"
   ]
  },
  {
   "cell_type": "code",
   "execution_count": 13,
   "metadata": {},
   "outputs": [],
   "source": [
    "infoTable = redirectSoup.find(name='table', \n",
    "                              attrs={'class': 'a-normal a-spacing-micro'})"
   ]
  },
  {
   "cell_type": "code",
   "execution_count": 14,
   "metadata": {},
   "outputs": [],
   "source": [
    "brandRow = infoTable.find(name='tr', \n",
    "                          attrs={'class': 'a-spacing-small po-brand'})"
   ]
  },
  {
   "cell_type": "code",
   "execution_count": 15,
   "metadata": {},
   "outputs": [],
   "source": [
    "brand = brandRow.findChildren(name='td', recursive=False)[1].text.strip()"
   ]
  },
  {
   "cell_type": "code",
   "execution_count": 16,
   "metadata": {},
   "outputs": [],
   "source": [
    "modelRow = infoTable.find(name='tr', \n",
    "                          attrs={'class': 'a-spacing-small po-model_name'})"
   ]
  },
  {
   "cell_type": "code",
   "execution_count": 17,
   "metadata": {},
   "outputs": [],
   "source": [
    "model = modelRow.findChildren(name='td', recursive=False)[1].text.strip()"
   ]
  },
  {
   "cell_type": "code",
   "execution_count": 18,
   "metadata": {},
   "outputs": [],
   "source": [
    "opSystemrow = infoTable.find(name='tr', \n",
    "                             attrs={'class': 'a-spacing-small po-operating_system'})"
   ]
  },
  {
   "cell_type": "code",
   "execution_count": 19,
   "metadata": {},
   "outputs": [],
   "source": [
    "operatingSystem = opSystemrow.findChildren(name='td', recursive=False)[1].text.strip()"
   ]
  },
  {
   "cell_type": "code",
   "execution_count": 20,
   "metadata": {},
   "outputs": [],
   "source": [
    "memoryStorageRow = infoTable.find(name='tr', \n",
    "                                  attrs={'class': 'a-spacing-small po-memory_storage_capacity'})"
   ]
  },
  {
   "cell_type": "code",
   "execution_count": 21,
   "metadata": {},
   "outputs": [],
   "source": [
    "memoryStorage = memoryStorageRow.findChildren(name='td', recursive=False)[1].text.strip()"
   ]
  },
  {
   "cell_type": "code",
   "execution_count": 22,
   "metadata": {},
   "outputs": [],
   "source": [
    "displaySizeRow = infoTable.find(name='tr',\n",
    "                                attrs={'class': 'a-spacing-small po-display.size'})"
   ]
  },
  {
   "cell_type": "code",
   "execution_count": 23,
   "metadata": {},
   "outputs": [],
   "source": [
    "displaySize = displaySizeRow.findChildren(name=\"td\", recursive=False)[1].text.strip()"
   ]
  },
  {
   "cell_type": "code",
   "execution_count": 24,
   "metadata": {},
   "outputs": [],
   "source": [
    "connectorTypeRow = infoTable.find(name=\"tr\", attrs={'class': 'a-spacing-small po-connector_type'})"
   ]
  },
  {
   "cell_type": "code",
   "execution_count": 25,
   "metadata": {},
   "outputs": [
    {
     "ename": "AttributeError",
     "evalue": "'NoneType' object has no attribute 'findChildren'",
     "output_type": "error",
     "traceback": [
      "\u001b[1;31m---------------------------------------------------------------------------\u001b[0m",
      "\u001b[1;31mAttributeError\u001b[0m                            Traceback (most recent call last)",
      "\u001b[1;32m<ipython-input-25-d809b516fa16>\u001b[0m in \u001b[0;36m<module>\u001b[1;34m\u001b[0m\n\u001b[1;32m----> 1\u001b[1;33m \u001b[0mconnectorType\u001b[0m \u001b[1;33m=\u001b[0m \u001b[0mconnectorTypeRow\u001b[0m\u001b[1;33m.\u001b[0m\u001b[0mfindChildren\u001b[0m\u001b[1;33m(\u001b[0m\u001b[0mname\u001b[0m\u001b[1;33m=\u001b[0m\u001b[1;34m\"td\"\u001b[0m\u001b[1;33m,\u001b[0m \u001b[0mrecursive\u001b[0m\u001b[1;33m=\u001b[0m\u001b[1;32mFalse\u001b[0m\u001b[1;33m)\u001b[0m\u001b[1;33m[\u001b[0m\u001b[1;36m1\u001b[0m\u001b[1;33m]\u001b[0m\u001b[1;33m.\u001b[0m\u001b[0mtext\u001b[0m\u001b[1;33m.\u001b[0m\u001b[0mstrip\u001b[0m\u001b[1;33m(\u001b[0m\u001b[1;33m)\u001b[0m\u001b[1;33m\u001b[0m\u001b[1;33m\u001b[0m\u001b[0m\n\u001b[0m",
      "\u001b[1;31mAttributeError\u001b[0m: 'NoneType' object has no attribute 'findChildren'"
     ]
    }
   ],
   "source": [
    "connectorType = connectorTypeRow.findChildren(name=\"td\", recursive=False)[1].text.strip()"
   ]
  },
  {
   "cell_type": "code",
   "execution_count": 26,
   "metadata": {},
   "outputs": [
    {
     "name": "stdout",
     "output_type": "stream",
     "text": [
      "TCL 30 SE TCL 128 GB\n"
     ]
    }
   ],
   "source": [
    "print(model, brand, memoryStorage)"
   ]
  },
  {
   "cell_type": "markdown",
   "metadata": {},
   "source": [
    "We can generalize this process for each card and collect:\n",
    "- the brand name\n",
    "- the model of the device\n",
    "- the memory storage\n",
    "- the screen/display size, and\n",
    "- the connector type"
   ]
  },
  {
   "cell_type": "code",
   "execution_count": 43,
   "metadata": {},
   "outputs": [
    {
     "data": {
      "text/plain": [
       "'/s?i=electronics-intl-ship&bbn=16225009011&rh=n%3A2811119011%2Cn%3A7072561011&dc&page=2&qid=1662992493&rnid=2811119011&ref=sr_pg_1'"
      ]
     },
     "execution_count": 43,
     "metadata": {},
     "output_type": "execute_result"
    }
   ],
   "source": [
    "paginationSpan = primaryPageSoup.find(name='span', attrs={'class': 's-pagination-strip'})\n",
    "\n",
    "\n",
    "pageNum = 2\n",
    "\n",
    "paginationSpan.find(name='a', attrs={'aria-label': f'Go to next page, page {str(pageNum)}'})['href']"
   ]
  },
  {
   "cell_type": "markdown",
   "metadata": {},
   "source": [
    "Ratings by <b>*features*</b>.\n",
    "> to be implemented"
   ]
  },
  {
   "cell_type": "code",
   "execution_count": 27,
   "metadata": {},
   "outputs": [],
   "source": [
    "# Grabbing link to reviews\n",
    "reviewsUrl = redirectSoup.find(name=\"a\", \n",
    "                               attrs={'data-hook': 'see-all-reviews-link-foot'})['href']"
   ]
  },
  {
   "cell_type": "markdown",
   "metadata": {},
   "source": [
    "## Generalizaing Pagination for Reviews"
   ]
  },
  {
   "cell_type": "code",
   "execution_count": 28,
   "metadata": {},
   "outputs": [],
   "source": [
    "# Pagination\n",
    "pageCounter = 0\n",
    "collectedReviews = []\n",
    "\n",
    "while pageCounter < 5:\n",
    "    nextUrl = reviewsUrl\n",
    "    # Getting request for the review page\n",
    "    reviewsPage = requests.get(url=mainUrl + reviewsUrl,\n",
    "                          headers=headers)\n",
    "    # Creating the Soup\n",
    "    reviewsSoup = BeautifulSoup(reviewsPage.content, features='lxml')\n",
    "    \n",
    "    # Obtaining the reviews parent div\n",
    "    reviewsDiv = reviewsSoup.find(name=\"div\", \n",
    "                               attrs={'id': 'cm_cr-review_list'})\n",
    "    \n",
    "    # All reviews in their respective divs\n",
    "    reviewsList = reviewsDiv.findChildren(name='div',\n",
    "                                     attrs={'data-hook': 'review'},\n",
    "                                     recursive=False)\n",
    "    for reviewDivs in reviewsList:\n",
    "        text = reviewsDiv.find(name=\"span\", attrs={'data-hook': 'review-body'}).text.strip('\\n')\n",
    "        collectedReviews.append(text)\n",
    "    try:   \n",
    "        # Getting next page url\n",
    "        paginationContainer = reviewsSoup.find(name=\"ul\", attrs={'class': 'a-pagination'})\n",
    "        nextUrl = paginationContainer.findChildren(name=\"li\", recursive=False)[1].find(name=\"a\")['href']\n",
    "    except AttributeError:\n",
    "        break\n",
    "    \n",
    "    # Sleeping to avoid making too many requests\n",
    "    time.sleep(2)\n",
    "    \n",
    "    # Updating the page counter\n",
    "    pageCounter += 1"
   ]
  },
  {
   "cell_type": "code",
   "execution_count": 29,
   "metadata": {},
   "outputs": [
    {
     "data": {
      "text/plain": [
       "50"
      ]
     },
     "execution_count": 29,
     "metadata": {},
     "output_type": "execute_result"
    }
   ],
   "source": [
    "collectedReviews.__len__()"
   ]
  },
  {
   "cell_type": "code",
   "execution_count": null,
   "metadata": {},
   "outputs": [],
   "source": []
  },
  {
   "cell_type": "code",
   "execution_count": null,
   "metadata": {},
   "outputs": [],
   "source": [
    "brandList = []\n",
    "modelList = []\n",
    "memoryList = []\n",
    "operatingList = []\n",
    "displayList = []\n",
    "\n",
    "for i in range(10):\n",
    "    response = requests.get(url=url, headers=headers)\n",
    "    \n",
    "    # getting the response content\n",
    "\n",
    "    primaryPageSoup = BeautifulSoup(markup=response.content, features='lxml')\n",
    "    \n",
    "    # finding the container \n",
    "\n",
    "    parentDiv = primaryPageSoup.find(name=\"div\", \n",
    "                                     attrs={'class': 's-main-slot s-result-list s-search-results sg-row'})\n",
    "    \n",
    "    # finding the card with phone titles\n",
    "\n",
    "    phoneDivs = parentDiv.findChildren(name=\"div\", attrs={'data-uuid': True}, recursive=False)\n",
    "    \n",
    "    for phone in phoneDivs:\n",
    "        \n",
    "        redirectUrl = phone.find(name='a')['href']\n",
    "        \n",
    "        pageRedirect = requests.get(mainUrl + redirectUrl, headers=headers)\n",
    "        \n",
    "        redirectSoup = BeautifulSoup(markup=pageRedirect.content, features='lxml')\n",
    "        \n",
    "        infoTable = redirectSoup.find(name='table', attrs={'class': 'a-normal a-spacing-micro'})\n",
    "        \n",
    "        brandRow = infoTable.find(name='tr', attrs={'class': 'a-spacing-small po-brand'})\n",
    "\n",
    "        brand = brandRow.findChildren(name='td', recursive=False)[1].text.strip()\n",
    "        brandList.append(brand)\n",
    "\n",
    "        modelRow = infoTable.find(name='tr', attrs={'class': 'a-spacing-small po-model_name'})\n",
    "\n",
    "        model = modelRow.findChildren(name='td', recursive=False)[1].text.strip()\n",
    "        modelList.append(model)\n",
    "\n",
    "        opSystemrow = infoTable.find(name='tr', \n",
    "                                     attrs={'class': 'a-spacing-small po-operating_system'})\n",
    "\n",
    "        operatingSystem = opSystemrow.findChildren(name='td', recursive=False)[1].text.strip()\n",
    "        operatingList.append(operatingSystem)\n",
    "\n",
    "        memoryStorageRow = infoTable.find(name='tr', \n",
    "                                          attrs={'class': 'a-spacing-small po-memory_storage_capacity'})\n",
    "\n",
    "        memoryStorage = memoryStorageRow.findChildren(name='td', recursive=False)[1].text.strip()\n",
    "        memoryList.append(memoryStorage)\n",
    "\n",
    "        displaySizeRow = infoTable.find(name='tr',\n",
    "                                        attrs={'class': 'a-spacing-small po-display.size'})\n",
    "\n",
    "        displaySize = displaySizeRow.findChildren(name=\"td\", recursive=False)[1].text.strip()\n",
    "        displayList.append(displaySize)\n",
    "        \n",
    "        # Grabbing link to reviews\n",
    "        \n",
    "        reviewsUrl = redirectSoup.find(name=\"a\", \n",
    "                                       attrs={'data-hook': 'see-all-reviews-link-foot'})['href']\n",
    "        \n",
    "        # Pagination\n",
    "        \n",
    "        pageCounter = 0\n",
    "        collectedReviews = []\n",
    "\n",
    "        while pageCounter < 5:\n",
    "            nextUrl = reviewsUrl\n",
    "            # Getting request for the review page\n",
    "            reviewsPage = requests.get(url=mainUrl + reviewsUrl,\n",
    "                                  headers=headers)\n",
    "            # Creating the Soup\n",
    "            reviewsSoup = BeautifulSoup(reviewsPage.content, features='lxml')\n",
    "\n",
    "            # Obtaining the reviews parent div\n",
    "            reviewsDiv = reviewsSoup.find(name=\"div\", \n",
    "                                       attrs={'id': 'cm_cr-review_list'})\n",
    "\n",
    "            # All reviews in their respective divs\n",
    "            reviewsList = reviewsDiv.findChildren(name='div',\n",
    "                                             attrs={'data-hook': 'review'},\n",
    "                                             recursive=False)\n",
    "            for reviewDivs in reviewsList:\n",
    "                text = reviewsDiv.find(name=\"span\", attrs={'data-hook': 'review-body'}).text.strip('\\n')\n",
    "                collectedReviews.append(text)\n",
    "            try:   \n",
    "                # Getting next page url\n",
    "                paginationContainer = reviewsSoup.find(name=\"ul\", attrs={'class': 'a-pagination'})\n",
    "                nextUrl = paginationContainer.findChildren(name=\"li\", recursive=False)[1].find(name=\"a\")['href']\n",
    "            except AttributeError:\n",
    "                break\n",
    "\n",
    "            # Sleeping to avoid making too many requests\n",
    "            time.sleep(2)\n",
    "\n",
    "            # Updating the page counter\n",
    "            pageCounter += 1\n",
    "        \n",
    "        \n",
    "    paginationSpan = primaryPageSoup.find(name='span', attrs={'class': 's-pagination-strip'})\n",
    "\n",
    "\n",
    "    pageNum = i\n",
    "\n",
    "    paginationSpan.find(name='a', attrs={'aria-label': f'Go to next page, page {str(pageNum)}'})['href']"
   ]
  }
 ],
 "metadata": {
  "kernelspec": {
   "display_name": "Python 3",
   "language": "python",
   "name": "python3"
  },
  "language_info": {
   "codemirror_mode": {
    "name": "ipython",
    "version": 3
   },
   "file_extension": ".py",
   "mimetype": "text/x-python",
   "name": "python",
   "nbconvert_exporter": "python",
   "pygments_lexer": "ipython3",
   "version": "3.8.5"
  }
 },
 "nbformat": 4,
 "nbformat_minor": 4
}
