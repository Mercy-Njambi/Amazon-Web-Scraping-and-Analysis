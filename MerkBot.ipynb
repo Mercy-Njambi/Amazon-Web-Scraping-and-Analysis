{
 "cells": [
  {
   "cell_type": "code",
   "execution_count": 1,
   "metadata": {},
   "outputs": [],
   "source": [
    "import pandas as pd\n",
    "import requests, re, time\n",
    "from bs4 import BeautifulSoup"
   ]
  },
  {
   "cell_type": "code",
   "execution_count": 2,
   "metadata": {},
   "outputs": [],
   "source": [
    "url = \"https://www.amazon.com/s?i=electronics-intl-ship&bbn=16225009011&rh=n%3A2811119011%2Cn%3A7072561011&dc&ds=v1%3ALg%2BI7W8x3qOCmrDsTOUseTdkjVGEHCRYQPlZKCjiQlo&qid=1662655090&rnid=2811119011&ref=sr_nr_n_1\"\n",
    "mainUrl = 'https://www.amazon.com'"
   ]
  },
  {
   "cell_type": "code",
   "execution_count": 3,
   "metadata": {},
   "outputs": [],
   "source": [
    "headers = ({'User-Agent':\n",
    "            'Mozilla/5.0 (Windows NT 10.0; Win64; x64) AppleWebKit/537.36 (KHTML, like Gecko) Chrome/103.0.5060.114 Safari/537.36 Edg/103.0.1264.62',\n",
    "            'Accept-Language': 'en-US, en;q=0.5'})"
   ]
  },
  {
   "cell_type": "markdown",
   "metadata": {},
   "source": [
    "Finding children <b>recursively</b> entails getting *their* grandchildren too, as _viable_ results."
   ]
  },
  {
   "cell_type": "markdown",
   "metadata": {},
   "source": [
    "We can generalize this process for each card and collect:\n",
    "- the brand name\n",
    "- the model of the device\n",
    "- the memory storage\n",
    "- the screen/display size, and\n",
    "- the connector type"
   ]
  },
  {
   "cell_type": "markdown",
   "metadata": {},
   "source": [
    "Ratings by <b>*features*</b>.\n",
    "> to be implemented"
   ]
  },
  {
   "cell_type": "markdown",
   "metadata": {},
   "source": [
    "## Generalizaing Review Collection"
   ]
  },
  {
   "cell_type": "code",
   "execution_count": 4,
   "metadata": {},
   "outputs": [
    {
     "ename": "TypeError",
     "evalue": "'NoneType' object is not subscriptable",
     "output_type": "error",
     "traceback": [
      "\u001b[1;31m---------------------------------------------------------------------------\u001b[0m",
      "\u001b[1;31mTypeError\u001b[0m                                 Traceback (most recent call last)",
      "\u001b[1;32m<ipython-input-4-fcb2c0057040>\u001b[0m in \u001b[0;36m<module>\u001b[1;34m\u001b[0m\n\u001b[0;32m     95\u001b[0m                 \u001b[1;31m# Getting next page url and updating the reviewsUrl variable\u001b[0m\u001b[1;33m\u001b[0m\u001b[1;33m\u001b[0m\u001b[1;33m\u001b[0m\u001b[0m\n\u001b[0;32m     96\u001b[0m                 \u001b[0mpaginationContainer\u001b[0m \u001b[1;33m=\u001b[0m \u001b[0mreviewsSoup\u001b[0m\u001b[1;33m.\u001b[0m\u001b[0mfind\u001b[0m\u001b[1;33m(\u001b[0m\u001b[0mname\u001b[0m\u001b[1;33m=\u001b[0m\u001b[1;34m\"ul\"\u001b[0m\u001b[1;33m,\u001b[0m \u001b[0mattrs\u001b[0m\u001b[1;33m=\u001b[0m\u001b[1;33m{\u001b[0m\u001b[1;34m'class'\u001b[0m\u001b[1;33m:\u001b[0m \u001b[1;34m'a-pagination'\u001b[0m\u001b[1;33m}\u001b[0m\u001b[1;33m)\u001b[0m\u001b[1;33m\u001b[0m\u001b[1;33m\u001b[0m\u001b[0m\n\u001b[1;32m---> 97\u001b[1;33m                 \u001b[0mnextReviewsUrl\u001b[0m \u001b[1;33m=\u001b[0m \u001b[0mpaginationContainer\u001b[0m\u001b[1;33m.\u001b[0m\u001b[0mfindChildren\u001b[0m\u001b[1;33m(\u001b[0m\u001b[0mname\u001b[0m\u001b[1;33m=\u001b[0m\u001b[1;34m\"li\"\u001b[0m\u001b[1;33m,\u001b[0m \u001b[0mrecursive\u001b[0m\u001b[1;33m=\u001b[0m\u001b[1;32mFalse\u001b[0m\u001b[1;33m)\u001b[0m\u001b[1;33m[\u001b[0m\u001b[1;36m1\u001b[0m\u001b[1;33m]\u001b[0m\u001b[1;33m.\u001b[0m\u001b[0mfind\u001b[0m\u001b[1;33m(\u001b[0m\u001b[0mname\u001b[0m\u001b[1;33m=\u001b[0m\u001b[1;34m\"a\"\u001b[0m\u001b[1;33m)\u001b[0m\u001b[1;33m[\u001b[0m\u001b[1;34m'href'\u001b[0m\u001b[1;33m]\u001b[0m\u001b[1;33m\u001b[0m\u001b[1;33m\u001b[0m\u001b[0m\n\u001b[0m\u001b[0;32m     98\u001b[0m                 \u001b[0mreviewsUrl\u001b[0m \u001b[1;33m=\u001b[0m \u001b[0mnextReviewsUrl\u001b[0m\u001b[1;33m\u001b[0m\u001b[1;33m\u001b[0m\u001b[0m\n\u001b[0;32m     99\u001b[0m \u001b[1;33m\u001b[0m\u001b[0m\n",
      "\u001b[1;31mTypeError\u001b[0m: 'NoneType' object is not subscriptable"
     ]
    }
   ],
   "source": [
    "data = pd.DataFrame(columns=['brand', 'model', 'memoryStorage','opSystem','display', 'reviews'])\n",
    "pageNum = 1\n",
    "\n",
    "%timeit\n",
    "while pageNum < 11:\n",
    "    currentUrl = url\n",
    "    response = requests.get(url= currentUrl, headers=headers)\n",
    "    \n",
    "    # getting the response content\n",
    "\n",
    "    primaryPageSoup = BeautifulSoup(markup=response.content, features='lxml')\n",
    "    \n",
    "    # finding the container \n",
    "\n",
    "    parentDiv = primaryPageSoup.find(name=\"div\", \n",
    "                                     attrs={'class': 's-main-slot s-result-list s-search-results sg-row'})\n",
    "    \n",
    "    # finding the card with phone titles\n",
    "\n",
    "    phoneDivs = parentDiv.findChildren(name=\"div\", attrs={'data-uuid': True}, recursive=False)\n",
    "    \n",
    "    for phone in phoneDivs:\n",
    "        \n",
    "        redirectUrl = phone.find(name='a')['href']\n",
    "        \n",
    "        pageRedirect = requests.get(mainUrl + redirectUrl, headers=headers)\n",
    "        \n",
    "        redirectSoup = BeautifulSoup(markup=pageRedirect.content, features='lxml')\n",
    "        \n",
    "        # Grabbing link to reviews\n",
    "        try:\n",
    "            reviewsUrl = redirectSoup.find(name=\"a\", \n",
    "                                           attrs={'data-hook': 'see-all-reviews-link-foot'})['href']\n",
    "        except TypeError:\n",
    "            # If no reviews found, no point in collecting the information\n",
    "            continue\n",
    "        \n",
    "        try:\n",
    "            # Locate table with Device Information\n",
    "            infoTable = redirectSoup.find(name='table', attrs={'class': 'a-normal a-spacing-micro'})\n",
    "            \n",
    "            # Gather Brand Information- eg, Samsung, Iphone, One Plus\n",
    "            brandRow = infoTable.find(name='tr', attrs={'class': 'a-spacing-small po-brand'})\n",
    "            brand = brandRow.findChildren(name='td', recursive=False)[1].text.strip()\n",
    "\n",
    "            # Gather Device Model Information - eg, Iphone XS, S20FE\n",
    "            modelRow = infoTable.find(name='tr', attrs={'class': 'a-spacing-small po-model_name'})\n",
    "            model = modelRow.findChildren(name='td', recursive=False)[1].text.strip()\n",
    "\n",
    "            # Gather Operating System Information - eg IOS, Android 13\n",
    "            opSystemrow = infoTable.find(name='tr', \n",
    "                                         attrs={'class': 'a-spacing-small po-operating_system'})\n",
    "            operatingSystem = opSystemrow.findChildren(name='td', recursive=False)[1].text.strip()\n",
    "\n",
    "            # Gather ROM information - eg, 64GB, 128GB\n",
    "            memoryStorageRow = infoTable.find(name='tr', \n",
    "                                              attrs={'class': 'a-spacing-small po-memory_storage_capacity'})\n",
    "            memoryStorage = memoryStorageRow.findChildren(name='td', recursive=False)[1].text.strip()\n",
    "\n",
    "            # Gather Screen Display Size - eg, 5.8 Inches\n",
    "            displaySizeRow = infoTable.find(name='tr',\n",
    "                                            attrs={'class': 'a-spacing-small po-display.size'})\n",
    "            displaySize = displaySizeRow.findChildren(name=\"td\", recursive=False)[1].text.strip()\n",
    "        \n",
    "        except AttributeError:\n",
    "            continue\n",
    "\n",
    "\n",
    "        # Pagination for Reviews \n",
    "        pageCounter = 0\n",
    "\n",
    "        while pageCounter < 5:\n",
    "            # Getting request for the review page\n",
    "            reviewsPage = requests.get(url=mainUrl + reviewsUrl,\n",
    "                                  headers=headers)\n",
    "            # Creating the Soup\n",
    "            reviewsSoup = BeautifulSoup(reviewsPage.content, features='lxml')\n",
    "            \n",
    "            try: \n",
    "                # Obtaining the reviews parent div\n",
    "                reviewsDiv = reviewsSoup.find(name=\"div\", \n",
    "                                           attrs={'id': 'cm_cr-review_list'})\n",
    "\n",
    "                # All reviews in their respective divs\n",
    "                reviewsList = reviewsDiv.findChildren(name='div',\n",
    "                                                 attrs={'data-hook': 'review'},\n",
    "                                                 recursive=False)\n",
    "\n",
    "                for div in reviewsList:\n",
    "                    text = div.find(name=\"span\", attrs={'data-hook': 'review-body'}).text.strip('\\n')\n",
    "\n",
    "                    # Append Information to DataFrame, first five column entries will be repeated per review.\n",
    "                    data.loc[len(data.index)] = [brand, model, memoryStorage, operatingSystem, displaySize, text]\n",
    "\n",
    "                # Getting next page url and updating the reviewsUrl variable\n",
    "                paginationContainer = reviewsSoup.find(name=\"ul\", attrs={'class': 'a-pagination'})\n",
    "                nextReviewsUrl = paginationContainer.findChildren(name=\"li\", recursive=False)[1].find(name=\"a\")['href']\n",
    "                reviewsUrl = nextReviewsUrl\n",
    "                \n",
    "            \n",
    "            except AttributeError:\n",
    "                break\n",
    "\n",
    "            # Sleeping to avoid making too many requests\n",
    "            time.sleep(5)\n",
    "\n",
    "            # Updating the page counter\n",
    "            pageCounter += 1\n",
    "        \n",
    "    # Retrieve next Page Url\n",
    "    paginationSpan = primaryPageSoup.find(name='span', attrs={'class': 's-pagination-strip'})\n",
    "    pageNum += 1\n",
    "    print(\"Next Page is: {}\".format(pageNum))\n",
    "    nextPageUrl = paginationSpan.find(name='a',\n",
    "                   attrs={'aria-label': f'Go to next page, page {str(pageNum)}'})['href']\n",
    "    \n",
    "    url = mainUrl + nextPageUrl"
   ]
  },
  {
   "cell_type": "code",
   "execution_count": null,
   "metadata": {},
   "outputs": [],
   "source": []
  },
  {
   "cell_type": "code",
   "execution_count": 5,
   "metadata": {},
   "outputs": [
    {
     "data": {
      "text/plain": [
       "(34, 6)"
      ]
     },
     "execution_count": 5,
     "metadata": {},
     "output_type": "execute_result"
    }
   ],
   "source": [
    "data.shape"
   ]
  },
  {
   "cell_type": "code",
   "execution_count": null,
   "metadata": {},
   "outputs": [],
   "source": []
  }
 ],
 "metadata": {
  "kernelspec": {
   "display_name": "Python 3",
   "language": "python",
   "name": "python3"
  },
  "language_info": {
   "codemirror_mode": {
    "name": "ipython",
    "version": 3
   },
   "file_extension": ".py",
   "mimetype": "text/x-python",
   "name": "python",
   "nbconvert_exporter": "python",
   "pygments_lexer": "ipython3",
   "version": "3.8.5"
  }
 },
 "nbformat": 4,
 "nbformat_minor": 4
}
